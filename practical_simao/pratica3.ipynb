{
 "cells": [
  {
   "cell_type": "code",
   "execution_count": 2,
   "metadata": {},
   "outputs": [],
   "source": [
    "import numpy as np\n",
    "import matplotlib.pyplot as plt"
   ]
  },
  {
   "cell_type": "markdown",
   "metadata": {},
   "source": [
    "1)"
   ]
  },
  {
   "cell_type": "code",
   "execution_count": 3,
   "metadata": {},
   "outputs": [],
   "source": [
    "def closedform(phi,labels):\n",
    "    return np.linalg.inv(np.dot(phi.T,phi)).dot(phi.T).dot(labels)"
   ]
  },
  {
   "cell_type": "code",
   "execution_count": 4,
   "metadata": {},
   "outputs": [
    {
     "name": "stdout",
     "output_type": "stream",
     "text": [
      "[[-2.  1.]\n",
      " [-1.  1.]\n",
      " [ 0.  1.]\n",
      " [ 2.  1.]]\n"
     ]
    }
   ],
   "source": [
    "phi=np.array([-2.0,-1.0,0.0,2.0])\n",
    "phi=np.concatenate([phi.reshape(-1,1),np.ones(4).reshape(-1,1)],axis=1)\n",
    "labels=np.array([2.0,3.0,1.0,-1.0])\n",
    "print(phi)"
   ]
  },
  {
   "cell_type": "code",
   "execution_count": 5,
   "metadata": {},
   "outputs": [
    {
     "name": "stdout",
     "output_type": "stream",
     "text": [
      "[-0.88571429  1.02857143]\n"
     ]
    }
   ],
   "source": [
    "w=closedform(phi,labels)\n",
    "print(w)"
   ]
  },
  {
   "cell_type": "code",
   "execution_count": 6,
   "metadata": {},
   "outputs": [
    {
     "data": {
      "text/plain": [
       "0.14285714285714313"
      ]
     },
     "execution_count": 6,
     "metadata": {},
     "output_type": "execute_result"
    }
   ],
   "source": [
    "w.dot([1,1])"
   ]
  },
  {
   "cell_type": "code",
   "execution_count": 7,
   "metadata": {},
   "outputs": [
    {
     "data": {
      "image/png": "[encoded data removed]",
      "text/plain": [
       "<Figure size 432x288 with 1 Axes>"
      ]
     },
     "metadata": {
      "needs_background": "light"
     },
     "output_type": "display_data"
    }
   ],
   "source": [
    "plt.figure()\n",
    "x=phi[:,0]\n",
    "#plt.hlines(1,min(x)-1,max(x)+1)\n",
    "plt.eventplot(x,orientation='horizontal',colors='b')\n",
    "plt.eventplot(np.array([-w[1]/w[0]]),orientation='horizontal',colors='r')\n",
    "plt.show()"
   ]
  },
  {
   "cell_type": "code",
   "execution_count": 8,
   "metadata": {},
   "outputs": [
    {
     "data": {
      "text/plain": [
       "0.23571428571428574"
      ]
     },
     "execution_count": 8,
     "metadata": {},
     "output_type": "execute_result"
    }
   ],
   "source": [
    "yd=(labels-np.dot(w,phi.T))\n",
    "np.mean(1/2*(yd*yd))"
   ]
  },
  {
   "cell_type": "markdown",
   "metadata": {},
   "source": [
    "2)"
   ]
  },
  {
   "cell_type": "code",
   "execution_count": 9,
   "metadata": {},
   "outputs": [
    {
     "name": "stdout",
     "output_type": "stream",
     "text": [
      "[[1. 1. 1.]\n",
      " [2. 1. 1.]\n",
      " [1. 3. 1.]\n",
      " [3. 3. 1.]]\n"
     ]
    }
   ],
   "source": [
    "phi=np.array([[1,1],[2,1],[1,3],[3,3]])\n",
    "phi=np.concatenate([phi,np.ones(4).reshape(-1,1)],axis=1)\n",
    "print(phi)\n",
    "label=np.array([1.4,0.5,2,2.5])"
   ]
  },
  {
   "cell_type": "code",
   "execution_count": 10,
   "metadata": {},
   "outputs": [
    {
     "name": "stdout",
     "output_type": "stream",
     "text": [
      "[0.02  0.645 0.275]\n"
     ]
    }
   ],
   "source": [
    "w=closedform(phi,label)\n",
    "print(w)"
   ]
  },
  {
   "cell_type": "code",
   "execution_count": 11,
   "metadata": {},
   "outputs": [
    {
     "name": "stdout",
     "output_type": "stream",
     "text": [
      "2.25\n"
     ]
    }
   ],
   "source": [
    "print(np.array([2,3,1]).dot(w))"
   ]
  },
  {
   "cell_type": "code",
   "execution_count": 12,
   "metadata": {},
   "outputs": [
    {
     "data": {
      "text/plain": [
       "[<matplotlib.lines.Line2D at 0x7f30d865c3d0>]"
      ]
     },
     "execution_count": 12,
     "metadata": {},
     "output_type": "execute_result"
    },
    {
     "data": {
      "image/png": "[encoded data removed]",
      "text/plain": [
       "<Figure size 432x288 with 1 Axes>"
      ]
     },
     "metadata": {
      "needs_background": "light"
     },
     "output_type": "display_data"
    }
   ],
   "source": [
    "plt.plot(phi[:,0],phi[:,1],'o',linewidth=0)\n",
    "x=np.arange(1,3,0.1)\n",
    "plt.plot(x,(w[1]*x-w[2])/w[1])"
   ]
  },
  {
   "cell_type": "code",
   "execution_count": 13,
   "metadata": {},
   "outputs": [
    {
     "data": {
      "text/plain": [
       "0.06612500000000002"
      ]
     },
     "execution_count": 13,
     "metadata": {},
     "output_type": "execute_result"
    }
   ],
   "source": [
    "yd=(label-np.dot(w,phi.T))\n",
    "np.mean(1/2*(yd*yd))"
   ]
  },
  {
   "cell_type": "markdown",
   "metadata": {},
   "source": [
    "3)"
   ]
  },
  {
   "cell_type": "code",
   "execution_count": 14,
   "metadata": {},
   "outputs": [],
   "source": [
    "phi=np.array([3,4,6,10,12]).reshape(-1,1)\n",
    "phi_1=np.log(phi)\n",
    "phi_1=np.concatenate([phi_1,np.ones(5).reshape(-1,1)],axis=1)\n",
    "phi_2=phi*phi\n",
    "phi_2=np.concatenate([phi_2,np.ones(5).reshape(-1,1)],axis=1)\n",
    "label=np.array([1.5,9.3,23.5,45.8,60.1])"
   ]
  },
  {
   "cell_type": "code",
   "execution_count": 15,
   "metadata": {},
   "outputs": [
    {
     "name": "stdout",
     "output_type": "stream",
     "text": [
      "[ 41.39294511 -46.99843777] [0.41343359 2.82055071]\n"
     ]
    }
   ],
   "source": [
    "w_1=closedform(phi_1,label)\n",
    "w_2=closedform(phi_2,label)\n",
    "print(w_1,w_2)"
   ]
  },
  {
   "cell_type": "code",
   "execution_count": 16,
   "metadata": {},
   "outputs": [
    {
     "data": {
      "text/plain": [
       "[<matplotlib.lines.Line2D at 0x7f30d86dce80>]"
      ]
     },
     "execution_count": 16,
     "metadata": {},
     "output_type": "execute_result"
    },
    {
     "data": {
      "image/png": "[encoded data removed]",
      "text/plain": [
       "<Figure size 432x288 with 1 Axes>"
      ]
     },
     "metadata": {
      "needs_background": "light"
     },
     "output_type": "display_data"
    }
   ],
   "source": [
    "plt.plot(phi,label,'o')\n",
    "x=np.arange(2,13)\n",
    "plt.plot(x,w_1[0]*np.log(x)+w_1[1],'r')\n",
    "plt.plot(x,w_2[0]*x**2+w_2[1],'g')"
   ]
  },
  {
   "cell_type": "code",
   "execution_count": 17,
   "metadata": {},
   "outputs": [
    {
     "name": "stdout",
     "output_type": "stream",
     "text": [
      "4.806726314713909\n",
      "6.678812830572506\n"
     ]
    }
   ],
   "source": [
    "yd=(label-np.dot(w_1,phi_1.T))\n",
    "print(np.mean(1/2*(yd*yd)))\n",
    "\n",
    "yd=(label-np.dot(w_2,phi_2.T))\n",
    "print(np.mean(1/2*(yd*yd)))"
   ]
  },
  {
   "cell_type": "markdown",
   "metadata": {},
   "source": [
    "4)"
   ]
  },
  {
   "cell_type": "code",
   "execution_count": 18,
   "metadata": {},
   "outputs": [],
   "source": [
    "def sigmoid(w,x):\n",
    "    return 1/(1+np.exp(-np.dot(w,x)))\n"
   ]
  },
  {
   "cell_type": "code",
   "execution_count": 19,
   "metadata": {},
   "outputs": [],
   "source": [
    "def GD_cross_binary(phi,label,epochs,eta):\n",
    "    w=np.zeros(phi.shape[1])\n",
    "    for i in range(epochs):\n",
    "        k=np.zeros(phi.shape[1])\n",
    "        for x,y in zip(phi,label):\n",
    "            k+=-x*(y-sigmoid(w,x))\n",
    "        w-=eta*k\n",
    "    return(w)\n",
    "\n",
    "def SGD_cross_binary(phi,label,epochs,eta):\n",
    "    w=np.zeros(phi.shape[1])\n",
    "    for i in range(epochs):\n",
    "        n=int(np.random.rand()*label.shape[0])\n",
    "        x=phi[n]\n",
    "        y=label[n]\n",
    "        w=w+eta*x*(y-sigmoid(w,x))\n",
    "    return(w)"
   ]
  },
  {
   "cell_type": "code",
   "execution_count": 20,
   "metadata": {},
   "outputs": [],
   "source": [
    "phi=np.array([[-1,0],[0,0.25],[1,1],[1,-1]]).reshape(-1,2)\n",
    "phi=np.concatenate([phi,np.ones(4).reshape(-1,1)],axis=1)\n",
    "label=np.array([0,1,1,0])"
   ]
  },
  {
   "cell_type": "code",
   "execution_count": 21,
   "metadata": {},
   "outputs": [
    {
     "name": "stdout",
     "output_type": "stream",
     "text": [
      "[0.5   1.125 0.   ]\n",
      "[ 8.29875236 17.23438152  1.74508231]\n"
     ]
    }
   ],
   "source": [
    "print(GD_cross_binary(phi,label,1,1))\n",
    "print(GD_cross_binary(phi,label,2000,1))"
   ]
  },
  {
   "cell_type": "code",
   "execution_count": 22,
   "metadata": {},
   "outputs": [
    {
     "name": "stdout",
     "output_type": "stream",
     "text": [
      "1.2776187768408862\n"
     ]
    }
   ],
   "source": [
    "l=0\n",
    "w=GD_cross_binary(phi,label,2,1)\n",
    "for x,y in zip(phi,label):\n",
    "    l-=y*np.log(sigmoid(w,x))+(1-y)*np.log(1-sigmoid(w,x))\n",
    "print(l)\n"
   ]
  },
  {
   "cell_type": "code",
   "execution_count": 23,
   "metadata": {},
   "outputs": [
    {
     "name": "stdout",
     "output_type": "stream",
     "text": [
      "0.009075743424905011\n"
     ]
    }
   ],
   "source": [
    "l=0\n",
    "w=GD_cross_binary(phi,label,1000,1)\n",
    "for x,y in zip(phi,label):\n",
    "    l-=y*np.log(sigmoid(w,x))+(1-y)*np.log(1-sigmoid(w,x))\n",
    "print(l)"
   ]
  },
  {
   "cell_type": "code",
   "execution_count": 24,
   "metadata": {},
   "outputs": [
    {
     "name": "stdout",
     "output_type": "stream",
     "text": [
      "[ 3.36006458  7.34195159 -0.01256682]\n",
      "[0.    0.125 0.5  ]\n"
     ]
    }
   ],
   "source": [
    "print(SGD_cross_binary(phi,label,200,1))\n",
    "print(SGD_cross_binary(phi,label,1,1))"
   ]
  },
  {
   "cell_type": "markdown",
   "metadata": {},
   "source": [
    "5)"
   ]
  },
  {
   "cell_type": "code",
   "execution_count": 25,
   "metadata": {},
   "outputs": [],
   "source": [
    "def Prob(w,y,x,label):\n",
    "    zx=0\n",
    "    for y2 in label:\n",
    "        zx+=np.exp(np.dot(w[y2],x))\n",
    "    \n",
    "    return (np.exp(np.dot(w[y],x))/zx)"
   ]
  },
  {
   "cell_type": "code",
   "execution_count": 35,
   "metadata": {},
   "outputs": [],
   "source": [
    "def SGD_cross_multi(phi,label,epochs,eta,nclass,Prob):\n",
    "    w=np.zeros([nclass,phi.shape[1]])\n",
    "    e=np.identity(nclass)\n",
    "    for i in range(epochs):\n",
    "        n=int(np.random.rand()*label.shape[0])\n",
    "        x=phi[n]\n",
    "        y=label[n]\n",
    "        v=np.zeros([nclass,phi.shape[1]])\n",
    "        for y2 in range(0,nclass):\n",
    "            v+=Prob(w,y2,x,label)*np.outer(e[y2],x)\n",
    "        w+=eta*(np.outer(e[y],x)-v)\n",
    "\n",
    "    return(w)"
   ]
  },
  {
   "cell_type": "code",
   "execution_count": 36,
   "metadata": {},
   "outputs": [],
   "source": [
    "def SGD_cross_multi2(phi,label,epochs,eta,nclass,Prob):\n",
    "    w=np.zeros([nclass,phi.shape[1]])\n",
    "    for i in range(epochs):\n",
    "        e=np.zeros([nclass,phi.shape[1]])\n",
    "        n=int(np.random.rand()*label.shape[0])\n",
    "        x=phi[n]\n",
    "        y=label[n]\n",
    "        v=np.zeros([nclass,phi.shape[1]])\n",
    "        for y2 in range(0,nclass):\n",
    "            e[y2]=Prob(w,y2,x,label)*x\n",
    "        e[y]-=x\n",
    "        w-=eta*e\n",
    "\n",
    "    return(w)"
   ]
  },
  {
   "cell_type": "code",
   "execution_count": 28,
   "metadata": {},
   "outputs": [
    {
     "name": "stdout",
     "output_type": "stream",
     "text": [
      "[[ 0.  0.  5. ...  0.  0.  1.]\n",
      " [ 0.  0.  0. ...  0.  0.  1.]\n",
      " [ 0.  0.  0. ...  9.  0.  1.]\n",
      " ...\n",
      " [ 0.  0.  1. ...  0.  0.  1.]\n",
      " [ 0.  0.  2. ...  0.  0.  1.]\n",
      " [ 0.  0. 10. ...  1.  0.  1.]]\n"
     ]
    }
   ],
   "source": [
    "from sklearn.datasets import load_digits\n",
    "data = load_digits()\n",
    "X=data['data']\n",
    "X=np.concatenate([X,np.ones([X.shape[0],1])],axis=1)\n",
    "print(X)\n",
    "y=data['target']"
   ]
  },
  {
   "cell_type": "code",
   "execution_count": 29,
   "metadata": {},
   "outputs": [],
   "source": [
    "from sklearn.model_selection import train_test_split\n",
    "X_train, X_test, y_train, y_test = train_test_split(\n",
    "X, y, test_size=0.2, random_state=42)"
   ]
  },
  {
   "cell_type": "code",
   "execution_count": 37,
   "metadata": {},
   "outputs": [],
   "source": [
    "w=SGD_cross_multi(X_train,y_train,10,0.001,10,Prob)\n",
    "w2=SGD_cross_multi(X_train,y_train,100,0.001,10,Prob)"
   ]
  },
  {
   "cell_type": "code",
   "execution_count": 45,
   "metadata": {},
   "outputs": [],
   "source": [
    "w=SGD_cross_multi2(X_train,y_train,10,0.001,10,Prob)\n",
    "w2=SGD_cross_multi2(X_train,y_train,1000,0.001,10,Prob)"
   ]
  },
  {
   "cell_type": "code",
   "execution_count": 31,
   "metadata": {},
   "outputs": [],
   "source": [
    "def precision_loss(w,input,y):\n",
    "    y3=np.dot(w,input.T).T\n",
    "    yp=np.zeros(y3.shape[0])\n",
    "    for i in range(y3.shape[0]):\n",
    "        yp[i]=np.argmax(y3[i])\n",
    "    return  np.mean(yp == y),np.mean(1/2*(yp-y)**2)"
   ]
  },
  {
   "cell_type": "code",
   "execution_count": 43,
   "metadata": {},
   "outputs": [
    {
     "name": "stdout",
     "output_type": "stream",
     "text": [
      "(0.12222222222222222, 10.654166666666667)\n",
      "(0.16005567153792624, 10.020876826722338)\n"
     ]
    }
   ],
   "source": [
    "print(precision_loss(w,X_test,y_test))\n",
    "print(precision_loss(w,X_train,y_train))"
   ]
  },
  {
   "cell_type": "code",
   "execution_count": 42,
   "metadata": {},
   "outputs": [
    {
     "name": "stdout",
     "output_type": "stream",
     "text": [
      "(0.5777777777777777, 4.0125)\n",
      "(0.5782881002087683, 4.661447459986082)\n"
     ]
    }
   ],
   "source": [
    "print(precision_loss(w2,X_test,y_test))\n",
    "print(precision_loss(w2,X_train,y_train))"
   ]
  },
  {
   "cell_type": "code",
   "execution_count": 34,
   "metadata": {},
   "outputs": [
    {
     "name": "stdout",
     "output_type": "stream",
     "text": [
      "1.0\n",
      "0.9583333333333334\n"
     ]
    }
   ],
   "source": [
    "from sklearn.linear_model import LogisticRegression\n",
    "clf = LogisticRegression(fit_intercept=False, penalty='none')\n",
    "clf.fit(X_train, y_train)\n",
    "print(clf.score(X_train, y_train))\n",
    "print(clf.score(X_test, y_test))"
   ]
  },
  {
   "cell_type": "code",
   "execution_count": null,
   "metadata": {},
   "outputs": [],
   "source": []
  }
 ],
 "metadata": {
  "kernelspec": {
   "display_name": "Python 3.10.8 64-bit",
   "language": "python",
   "name": "python3"
  },
  "language_info": {
   "codemirror_mode": {
    "name": "ipython",
    "version": 3
   },
   "file_extension": ".py",
   "mimetype": "text/x-python",
   "name": "python",
   "nbconvert_exporter": "python",
   "pygments_lexer": "ipython3",
   "version": "3.10.8"
  },
  "orig_nbformat": 4,
  "vscode": {
   "interpreter": {
    "hash": "e7370f93d1d0cde622a1f8e1c04877d8463912d04d973331ad4851f04de6915a"
   }
  }
 },
 "nbformat": 4,
 "nbformat_minor": 2
}
