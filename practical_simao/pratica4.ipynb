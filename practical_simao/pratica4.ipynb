{
 "cells": [
  {
   "cell_type": "code",
   "execution_count": 2,
   "metadata": {},
   "outputs": [],
   "source": [
    "import numpy as np"
   ]
  },
  {
   "cell_type": "code",
   "execution_count": 3,
   "metadata": {},
   "outputs": [],
   "source": [
    "def precision_loss(w,input,y):\n",
    "    y3=np.dot(w,input.T).T\n",
    "    yp=np.zeros(y3.shape[0])\n",
    "    for i in range(y3.shape[0]):\n",
    "        yp[i]=np.argmax(y3[i])\n",
    "    return  np.mean(yp == y),np.mean(1/2*(yp-y)**2)\n",
    "\n",
    "def Prob(w,y,x,label):\n",
    "    zx=0\n",
    "    for y2 in label:\n",
    "        zx+=np.exp(np.dot(w[y2],x))\n",
    "    \n",
    "    return (np.exp(np.dot(w[y],x))/zx)"
   ]
  },
  {
   "cell_type": "markdown",
   "metadata": {},
   "source": [
    "1."
   ]
  },
  {
   "cell_type": "code",
   "execution_count": 4,
   "metadata": {},
   "outputs": [
    {
     "name": "stdout",
     "output_type": "stream",
     "text": [
      "[array([[0.18765865, 0.1       , 0.18765865, 0.1       ],\n",
      "       [0.18765865, 0.1       , 0.18765865, 0.1       ],\n",
      "       [0.18765865, 0.1       , 0.18765865, 0.1       ],\n",
      "       [0.18765865, 0.1       , 0.18765865, 0.1       ]]), array([[0.19509172, 0.19509172, 0.19509172, 0.19509172],\n",
      "       [0.19509172, 0.19509172, 0.19509172, 0.19509172],\n",
      "       [0.19509172, 0.19509172, 0.19509172, 0.19509172]]), array([[0.04358686, 0.04358686, 0.04358686],\n",
      "       [0.52635736, 0.52635736, 0.52635736],\n",
      "       [0.04358686, 0.04358686, 0.04358686]])]\n"
     ]
    }
   ],
   "source": [
    "eta=0.1\n",
    "epochs=100\n",
    "w1=np.ones([4,4])*0.1\n",
    "w2=np.ones([3,4])*0.1\n",
    "w3=np.ones([3,3])*0.1\n",
    "b1=np.ones([4])*0.1\n",
    "b2=np.ones([3])*0.1\n",
    "b3=np.ones([3])*0.1\n",
    "w=[w1,w2,w3]\n",
    "b=[b1,b2,b3]\n",
    "input=np.array([1,0,1,0])\n",
    "label=np.array([0,1,0])\n",
    "z0=np.ones([4])*0.1\n",
    "z1=np.ones([4])*0.1\n",
    "z2=np.ones([3])*0.1\n",
    "z3=np.ones([3])*0.1\n",
    "z=[z0,z1,z2,z3]\n",
    "gradz=[z0,z1,z2,z3]\n",
    "z[0]=input\n",
    "for i in range(epochs):\n",
    "    for j in range(1,4):\n",
    "        z[j]=np.tanh(w[j-1].dot(z[j-1])+b[j-1])\n",
    "    n=int(np.random.rand()*label.shape[0])\n",
    "    y=label[n]\n",
    "    gradz[-1]=z[-1]-label\n",
    "    for k in range(3,0,-1):\n",
    "        gradw=np.outer(gradz[k],z[k-1])\n",
    "        gradb=gradz[k]\n",
    "        gradh=np.dot(w[k-1].T,gradz[k])\n",
    "        gradz[k-1]=gradh*1/np.cosh(z[k-1])**2\n",
    "        w[k-1]-=eta*gradw\n",
    "        b[k-1]-=eta*gradb\n",
    "print(w)"
   ]
  },
  {
   "cell_type": "code",
   "execution_count": 5,
   "metadata": {},
   "outputs": [
    {
     "name": "stdout",
     "output_type": "stream",
     "text": [
      "[8.18737504e-04 9.79485236e-01 8.18737504e-04]\n"
     ]
    }
   ],
   "source": [
    "for j in range(1,4):\n",
    "        z[j]=np.tanh(w[j-1].dot(z[j-1])+b[j-1])\n",
    "print(z[-1])"
   ]
  },
  {
   "cell_type": "code",
   "execution_count": 6,
   "metadata": {},
   "outputs": [],
   "source": [
    "def ML_SGD_tanh_I(input,label,w,b,z,gradz,epochs,eta):\n",
    "    for i in range(epochs):\n",
    "        for j in range(1,len(z)):\n",
    "            z[j]=np.tanh(w[j-1].dot(z[j-1])+b[j-1])\n",
    "        n=int(np.random.rand()*label.shape[0])\n",
    "        y=label[n]\n",
    "        gradz[-1]=z[-1]-label\n",
    "        for k in range(len(z)-1,0,-1):\n",
    "            gradw=np.outer(gradz[k],z[k-1])\n",
    "            gradb=gradz[k]\n",
    "            gradh=np.dot(w[k-1].T,gradz[k])\n",
    "            gradz[k-1]=gradh*1/np.cosh(z[k-1])**2\n",
    "            w[k-1]-=eta*gradw\n",
    "            b[k-1]-=eta*gradb\n",
    "    return (w,b)"
   ]
  },
  {
   "cell_type": "code",
   "execution_count": 7,
   "metadata": {},
   "outputs": [],
   "source": [
    "def ML_SGD(input,label,w,b,z,gradz,act,gradact,out,epochs,eta):      #use this version more general\n",
    "    for i in range(epochs):\n",
    "        for j in range(1,len(z)):\n",
    "            z[j]=act(w[j-1].dot(z[j-1])+b[j-1])\n",
    "        z[-1]=out(z[-1])\n",
    "        n=int(np.random.rand()*label.shape[0])\n",
    "        y=label[n]\n",
    "        gradz[-1]=z[-1]-label\n",
    "        for k in range(len(z)-1,0,-1):\n",
    "            gradw=np.outer(gradz[k],z[k-1])\n",
    "            gradb=gradz[k]\n",
    "            gradh=np.dot(w[k-1].T,gradz[k])\n",
    "            gradz[k-1]=gradh*gradact(z[k-1])\n",
    "            w[k-1]-=eta*gradw\n",
    "            b[k-1]-=eta*gradb\n",
    "    return (w,b)"
   ]
  },
  {
   "cell_type": "code",
   "execution_count": 8,
   "metadata": {},
   "outputs": [],
   "source": [
    "w1=np.ones([4,4])*0.1\n",
    "w2=np.ones([3,4])*0.1\n",
    "w3=np.ones([3,3])*0.1\n",
    "b1=np.ones([4])*0.1\n",
    "b2=np.ones([3])*0.1\n",
    "b3=np.ones([3])*0.1\n",
    "w=[w1,w2,w3]\n",
    "b=[b1,b2,b3]\n",
    "input=np.array([1,0,1,0])\n",
    "label=np.array([0,1,0])\n",
    "z0=np.ones([4])*0.1\n",
    "z1=np.ones([4])*0.1\n",
    "z2=np.ones([3])*0.1\n",
    "z3=np.ones([3])*0.1\n",
    "z=[z0,z1,z2,z3]\n",
    "gradz=[z0,z1,z2,z3]\n",
    "z[0]=input\n",
    "w,b=ML_SGD_tanh_I(input,label,w,b,z,gradz,1000,.1)"
   ]
  },
  {
   "cell_type": "code",
   "execution_count": 10,
   "metadata": {},
   "outputs": [],
   "source": [
    "def I(z):\n",
    "    return z\n",
    "def gradtanh(z):\n",
    "    return 1/np.cosh(z)**2\n",
    "\n",
    "w1=np.ones([4,4])*0.1\n",
    "w2=np.ones([3,4])*0.1\n",
    "w3=np.ones([3,3])*0.1\n",
    "b1=np.ones([4])*0.1\n",
    "b2=np.ones([3])*0.1\n",
    "b3=np.ones([3])*0.1\n",
    "w=[w1,w2,w3]\n",
    "b=[b1,b2,b3]\n",
    "input=np.array([1,0,1,0])\n",
    "label=np.array([0,1,0])\n",
    "z0=np.ones([4])*0.1\n",
    "z1=np.ones([4])*0.1\n",
    "z2=np.ones([3])*0.1\n",
    "z3=np.ones([3])*0.1\n",
    "z=[z0,z1,z2,z3]\n",
    "gradz=[z0,z1,z2,z3]\n",
    "z[0]=input\n",
    "w,b=ML_SGD(input,label,w,b,z,gradz,np.tanh,gradtanh,I,1000,.1)"
   ]
  },
  {
   "cell_type": "code",
   "execution_count": 11,
   "metadata": {},
   "outputs": [
    {
     "name": "stdout",
     "output_type": "stream",
     "text": [
      "[2.18570131e-05 9.98693444e-01 2.18570131e-05]\n"
     ]
    }
   ],
   "source": [
    "for j in range(1,4):\n",
    "        z[j]=np.tanh(w[j-1].dot(z[j-1])+b[j-1])\n",
    "print(z[-1])"
   ]
  },
  {
   "cell_type": "code",
   "execution_count": null,
   "metadata": {},
   "outputs": [],
   "source": []
  }
 ],
 "metadata": {
  "kernelspec": {
   "display_name": "Python 3.10.8 64-bit",
   "language": "python",
   "name": "python3"
  },
  "language_info": {
   "codemirror_mode": {
    "name": "ipython",
    "version": 3
   },
   "file_extension": ".py",
   "mimetype": "text/x-python",
   "name": "python",
   "nbconvert_exporter": "python",
   "pygments_lexer": "ipython3",
   "version": "3.10.8"
  },
  "orig_nbformat": 4,
  "vscode": {
   "interpreter": {
    "hash": "767d51c1340bd893661ea55ea3124f6de3c7a262a8b4abca0554b478b1e2ff90"
   }
  }
 },
 "nbformat": 4,
 "nbformat_minor": 2
}
